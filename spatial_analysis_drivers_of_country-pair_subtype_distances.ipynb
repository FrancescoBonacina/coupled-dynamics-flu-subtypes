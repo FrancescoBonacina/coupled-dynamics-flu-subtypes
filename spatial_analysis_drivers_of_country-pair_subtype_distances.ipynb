{
 "cells": [
  {
   "cell_type": "markdown",
   "id": "adbcf816",
   "metadata": {},
   "source": [
    "### drivers of country-pair subtype distances"
   ]
  },
  {
   "cell_type": "code",
   "execution_count": null,
   "id": "fab6a71a",
   "metadata": {},
   "outputs": [],
   "source": [
    "import pandas as pd\n",
    "import os\n",
    "import numpy as np\n",
    "import matplotlib.pyplot as plt\n",
    "from sklearn.preprocessing import StandardScaler\n",
    "import statsmodels.formula.api as smf\n",
    "from sklearn.utils import shuffle"
   ]
  },
  {
   "cell_type": "code",
   "execution_count": null,
   "id": "c0150671",
   "metadata": {},
   "outputs": [],
   "source": [
    "import warnings\n",
    "warnings.filterwarnings('ignore')"
   ]
  },
  {
   "cell_type": "code",
   "execution_count": null,
   "id": "373601fc",
   "metadata": {},
   "outputs": [],
   "source": [
    "outdir = './out/'\n",
    "if not os.path.exists(outdir):\n",
    "    os.makedirs(outdir)"
   ]
  },
  {
   "cell_type": "markdown",
   "id": "fa9902e9-b47c-4927-9529-84c0dba2530f",
   "metadata": {},
   "source": [
    "#### Load data"
   ]
  },
  {
   "cell_type": "code",
   "execution_count": null,
   "id": "4ee764b6-2190-4d84-a1ab-b6f1ef78a3e2",
   "metadata": {},
   "outputs": [],
   "source": [
    "df_lm = pd.read_csv('./input_spatial_analysis.csv')\n",
    "df_lm.head(1)\n",
    "\n",
    "### variables:\n",
    "# country_i: country name of the first country, following the FluNet nomenclature\n",
    "# country_j: country name of the second country, following the FluNet nomenclature\n",
    "# part2gr_i: label identifying the cluster the country i belongs to, considering a 2-groups partition\n",
    "# part2gr_j: label identifying the cluster the country j belongs to, considering a 2-groups partition\n",
    "# part6gr_i: label identifying the cluster the country i belongs to, considering a 6-groups partition\n",
    "# part6gr_j: label identifying the cluster the country j belongs to, considering a 6-groups partition\n",
    "# d_subtypes: distances of trajectories of (sub)type compositions. Trajectories are expressed in ilr coordinates, and cover the \n",
    "#    period 2010-2019. Distances are quantified in terms of average Euclidean distances between corresponding points of the 2 trajectories.\n",
    "# d_flights: air-traffic distances in terms of arrival time. This variable is hidden as IATA data are not shareable.\n",
    "# d_T: difference of average temperatures\n",
    "# d_RH: difference of relative humidities\n",
    "# season_sync: categorical variable, specifying whether the 2 countries have synchronized, partially overlapping, or oppsite flu seasons.\n",
    "\n",
    "# for a detailed explanation of the variable definitions look at the Supplementary Information of the paper\n",
    "# Characterization and forecast of global influenza (sub)type dynamics doi: https://doi.org/10.1101/2024.08.01.24311336"
   ]
  },
  {
   "cell_type": "markdown",
   "id": "10b20d5f-efb7-4fb0-8b65-157a071973c7",
   "metadata": {},
   "source": [
    "#### Drivers of country subtype dissimilarities - multivariate analysis"
   ]
  },
  {
   "cell_type": "markdown",
   "id": "94e0de8e-765a-4aca-a768-8e48faa98dfc",
   "metadata": {},
   "source": [
    "Transform the variables to make their distributions more symmetric and standardize"
   ]
  },
  {
   "cell_type": "code",
   "execution_count": null,
   "id": "b02429f0-e8bc-4c4f-bb58-fb81df9506db",
   "metadata": {},
   "outputs": [],
   "source": [
    "### transform the numerical variables to make them more Gaussian\n",
    "df_lm_std = df_lm.copy()\n",
    "df_lm_std['d_subtypes'] = np.log(df_lm_std['d_subtypes'])\n",
    "df_lm_std['d_T'] = np.sqrt(df_lm_std['d_T'])\n",
    "df_lm_std['d_RH'] = np.sqrt(df_lm_std['d_RH'])\n",
    "# d_flights is not transformed\n",
    "\n",
    "### standardize the numerical variables\n",
    "numeric_cols = ['d_subtypes', 'd_flights', 'd_T', 'd_RH']\n",
    "scaler = StandardScaler()\n",
    "df_lm_std[numeric_cols] = scaler.fit_transform(df_lm_std[numeric_cols])\n",
    "\n",
    "### visualize distributions, first and after the transformation\n",
    "fig, axs = plt.subplots(2,4,figsize=(6,3))\n",
    "axs = axs.ravel()\n",
    "\n",
    "new_vars = ['log(d_subtypes)', 'd_flights', 'sqrt(d_T)', 'sqrt(d_RH)']\n",
    "for i,var in enumerate(numeric_cols):\n",
    "\n",
    "    ### original variables\n",
    "    ax = axs[i]\n",
    "    ax.hist(df_lm[var], bins=30)#, label='%s'%var)\n",
    "    ax.set_xticks([])\n",
    "    ax.set_yticks([])\n",
    "    ax.set_title(var, fontsize=8)\n",
    "\n",
    "    ### transformed variables\n",
    "    ax = axs[i+4]\n",
    "    ax.hist(df_lm_std[var], bins=30)\n",
    "    ax.set_xticks([])\n",
    "    ax.set_yticks([])\n",
    "    ax.set_title(new_vars[i], fontsize=8)\n",
    "\n",
    "fig.tight_layout()   "
   ]
  },
  {
   "cell_type": "markdown",
   "id": "1ef82c4a-fce9-4c5a-9274-3b8d53ffa8de",
   "metadata": {},
   "source": [
    "Variance Inflation Factor (VIF) for Multicollinearity. A VIF>5 suggests a multicollinearity problem\n"
   ]
  },
  {
   "cell_type": "code",
   "execution_count": null,
   "id": "ba43459e-11e4-4feb-9cae-95ad82695332",
   "metadata": {},
   "outputs": [],
   "source": [
    "from statsmodels.stats.outliers_influence import variance_inflation_factor\n",
    "\n",
    "# Compute VIF for each variable\n",
    "vif_data = pd.DataFrame()\n",
    "vif_data[\"Variable\"] = numeric_cols\n",
    "vif_data[\"VIF\"] = [variance_inflation_factor(df_lm_std[numeric_cols].values, i) for i in range(len(numeric_cols))]\n",
    "\n",
    "print(vif_data)"
   ]
  },
  {
   "cell_type": "markdown",
   "id": "3624ca41-7cf7-48f8-9551-775097e5f154",
   "metadata": {},
   "source": [
    "Multivariate Linear Model with permutation to estimate parameters' confidence intervals (see: https://doi.org/10.1007/s11258-006-9126-3)"
   ]
  },
  {
   "cell_type": "code",
   "execution_count": null,
   "id": "32b5f866-1175-42bf-9839-7fcceee39e90",
   "metadata": {},
   "outputs": [],
   "source": [
    "lm_model = smf.ols(formula='d_subtypes ~ C(season_sync) + d_flights + d_T + d_RH', data=df_lm_std).fit()\n",
    "estimated_coefs = lm_model.params\n",
    "#print ('d_subtypes ~ C(season_sync) + d_flights + d_T + d_RH')\n",
    "#lm_model.summary()"
   ]
  },
  {
   "cell_type": "code",
   "execution_count": null,
   "id": "9839f1b4-e99d-41a9-98dc-d85fe335ceb4",
   "metadata": {},
   "outputs": [],
   "source": [
    "### fit linear models on permuted data\n",
    "n_permutations = 10000\n",
    "permuted_coefs = np.zeros((n_permutations, len(estimated_coefs)))\n",
    "for i in range(n_permutations):\n",
    "    Y_permuted = shuffle(df_lm_std['d_subtypes'])\n",
    "    df_lm_std['d_subtypes_permuted'] = list(Y_permuted)\n",
    "    perm_model = smf.ols(formula='d_subtypes_permuted ~ C(season_sync) + d_flights + d_T + d_RH', data=df_lm_std).fit()\n",
    "    permuted_coefs[i, :] = perm_model.params\n",
    "\n",
    "### compute the empirical confidence intervals\n",
    "lower_bound = np.percentile(permuted_coefs, 0.05, axis=0)\n",
    "upper_bound = np.percentile(permuted_coefs, 99.95, axis=0)\n",
    "pvalues = []\n",
    "for idx, (var,coef) in enumerate(estimated_coefs.items()):\n",
    "    distrib = permuted_coefs[:,idx]\n",
    "    pval = len(distrib[distrib<coef])/n_permutations\n",
    "    if pval>0.5:\n",
    "        pval = 1-pval\n",
    "    pvalues.append(pval)\n",
    "    #print(f\"{var}: {coef:.3f} \\t pval={pval:.3f} \\t(99,9% CI: {lower_bound[idx]:.3f}, {upper_bound[idx]:.3f}) \")\n",
    "    \n",
    "### store results of the linear model\n",
    "df_lm_res = pd.DataFrame(columns=['variable','coefficient','pval'])\n",
    "df_lm_res['variable'] = [k for k,v in estimated_coefs.items()]\n",
    "df_lm_res['coefficient'] = [v for k,v in estimated_coefs.items()]\n",
    "df_lm_res['pval'] = pvalues\n",
    "df_lm_res"
   ]
  },
  {
   "cell_type": "code",
   "execution_count": null,
   "id": "ef2ef5e7-dd7b-466c-bda4-e31f90bb14d1",
   "metadata": {},
   "outputs": [],
   "source": []
  }
 ],
 "metadata": {
  "kernelspec": {
   "display_name": "Python 3 (ipykernel)",
   "language": "python",
   "name": "python3"
  },
  "language_info": {
   "codemirror_mode": {
    "name": "ipython",
    "version": 3
   },
   "file_extension": ".py",
   "mimetype": "text/x-python",
   "name": "python",
   "nbconvert_exporter": "python",
   "pygments_lexer": "ipython3",
   "version": "3.11.7"
  }
 },
 "nbformat": 4,
 "nbformat_minor": 5
}
